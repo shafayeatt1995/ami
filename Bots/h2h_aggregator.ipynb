{
 "cells": [
  {
   "cell_type": "code",
   "execution_count": null,
   "metadata": {},
   "outputs": [],
   "source": []
  },
  {
   "cell_type": "code",
   "execution_count": null,
   "metadata": {},
   "outputs": [],
   "source": []
  },
  {
   "cell_type": "code",
   "execution_count": 28,
   "metadata": {},
   "outputs": [],
   "source": [
    "import certifi\n",
    "import time\n",
    "import sys\n",
    "from datetime import timedelta, date\n",
    "import datetime\n",
    "import os\n",
    "import pymongo\n",
    "\n",
    "from variables import COUNTRIES, MONGO_URL\n",
    "import json\n",
    "import threading\n",
    "import numpy\n",
    "from sportmonks import SportMonksAPI\n",
    "from pymongo import MongoClient\n",
    "import pandas as pd\n",
    "import boto3\n",
    "from fixture_formatter import FixtureFormatter\n",
    "s3 = boto3.client('s3')\n",
    "bucket = \"footyamigo-fixtures\"\n",
    "\n",
    "formatter = FixtureFormatter()\n",
    "\n",
    "ca = certifi.where()\n",
    "\n",
    "client = MongoClient(MONGO_URL, tlsCAFile=ca)\n",
    "database = client.footyamigo\n",
    "fixtures_col = database.fixtures\n",
    "errors_collection = database.errors\n",
    "users_collection = database.users\n"
   ]
  },
  {
   "cell_type": "code",
   "execution_count": 55,
   "metadata": {},
   "outputs": [],
   "source": [
    "start_of_year = date(2021, 1, 1)\n",
    "start_of_year = datetime.datetime(start_of_year.year, start_of_year.month, start_of_year.day)\n",
    "fixtures = fixtures_col.find({\"timestamp\": {\"$gte\": round(start_of_year.timestamp())}}, {\"home_id\": 1, \"away_id\": 1, \"timestamp\": 1, \"date\": 1}).sort([(\"timestamp\", pymongo.DESCENDING)]).limit(10)\n",
    "unique_teams = set()\n"
   ]
  },
  {
   "cell_type": "code",
   "execution_count": null,
   "metadata": {},
   "outputs": [],
   "source": []
  },
  {
   "cell_type": "code",
   "execution_count": 34,
   "metadata": {},
   "outputs": [],
   "source": []
  },
  {
   "cell_type": "code",
   "execution_count": 49,
   "metadata": {},
   "outputs": [],
   "source": []
  },
  {
   "cell_type": "code",
   "execution_count": 32,
   "metadata": {},
   "outputs": [
    {
     "name": "stdout",
     "output_type": "stream",
     "text": [
      "{'_id': ObjectId('61801e79b4d89fe6ae4bde32'), 'away_id': 13166, 'home_id': 13139}\n",
      "{'_id': ObjectId('61a57a7a2d952a7e3edc3ac2'), 'away_id': 252855, 'home_id': 252854}\n",
      "{'_id': ObjectId('619bfc162d952a7e3eab262a'), 'away_id': 10352, 'home_id': 10193}\n",
      "{'_id': ObjectId('6193c7439d4b9eb51af26f69'), 'away_id': 250743, 'home_id': 250747}\n",
      "{'_id': ObjectId('617da0126641383e37ebe98b'), 'away_id': 8682, 'home_id': 22630}\n",
      "{'_id': ObjectId('6193c8029d4b9eb51af2b106'), 'away_id': 131718, 'home_id': 4980}\n",
      "{'_id': ObjectId('6193c8a29d4b9eb51af2db28'), 'away_id': 237704, 'home_id': 245453}\n",
      "{'_id': ObjectId('61b38fe624c02d651aab151a'), 'away_id': 3057, 'home_id': 16255}\n",
      "{'_id': ObjectId('61ab341e2d952a7e3e1a28dd'), 'away_id': 228963, 'home_id': 23479}\n",
      "{'_id': ObjectId('61a5785b2d952a7e3edba55a'), 'away_id': 22849, 'home_id': 3494}\n"
     ]
    }
   ],
   "source": [
    "for fixture in fixtures:\n",
    "  team_ids = fixture.get(\"away_id\", 1), fixture.get(\"home_id\", 1)\n",
    "  team_ids = list(team_ids)\n",
    "  team_ids.sort()\n",
    "  unique_teams.add(tuple(team_ids))\n",
    "  print(fixture, len(unique_teams))"
   ]
  },
  {
   "cell_type": "code",
   "execution_count": null,
   "metadata": {},
   "outputs": [],
   "source": []
  },
  {
   "cell_type": "code",
   "execution_count": 51,
   "metadata": {},
   "outputs": [],
   "source": []
  },
  {
   "cell_type": "code",
   "execution_count": 52,
   "metadata": {},
   "outputs": [],
   "source": []
  },
  {
   "cell_type": "code",
   "execution_count": 53,
   "metadata": {},
   "outputs": [],
   "source": [
    "team_ids\n"
   ]
  },
  {
   "cell_type": "code",
   "execution_count": 54,
   "metadata": {},
   "outputs": [
    {
     "data": {
      "text/plain": [
       "{(3494, 22849)}"
      ]
     },
     "execution_count": 54,
     "metadata": {},
     "output_type": "execute_result"
    }
   ],
   "source": [
    "unique_teams"
   ]
  },
  {
   "cell_type": "code",
   "execution_count": null,
   "metadata": {},
   "outputs": [],
   "source": []
  }
 ],
 "metadata": {
  "interpreter": {
   "hash": "90bd059e05f79fb9b7cf5d2b1dae6ea26ca779772e058f49dd8fbe1978749df0"
  },
  "kernelspec": {
   "display_name": "Python 3.8.12 64-bit",
   "language": "python",
   "name": "python3"
  },
  "language_info": {
   "codemirror_mode": {
    "name": "ipython",
    "version": 3
   },
   "file_extension": ".py",
   "mimetype": "text/x-python",
   "name": "python",
   "nbconvert_exporter": "python",
   "pygments_lexer": "ipython3",
   "version": "3.8.12"
  },
  "orig_nbformat": 4
 },
 "nbformat": 4,
 "nbformat_minor": 2
}
