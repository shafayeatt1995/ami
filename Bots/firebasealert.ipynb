{
 "cells": [
  {
   "cell_type": "code",
   "execution_count": 1,
   "metadata": {},
   "outputs": [],
   "source": [
    "import certifi\n",
    "import time\n",
    "import sys\n",
    "from datetime import timedelta, date\n",
    "import datetime\n",
    "import os\n",
    "\n",
    "from variables import COUNTRIES, MONGO_URL\n",
    "import json\n",
    "import threading\n",
    "import numpy\n",
    "from sportmonks import SportMonksAPI\n",
    "from pymongo import MongoClient\n",
    "import pandas as pd\n",
    "import boto3\n",
    "from fixture_formatter import FixtureFormatter\n",
    "s3 = boto3.client('s3')\n",
    "bucket = \"footyamigo-fixtures\"\n",
    "\n",
    "formatter = FixtureFormatter()\n",
    "\n",
    "ca = certifi.where()\n",
    "\n",
    "client = MongoClient(MONGO_URL, tlsCAFile=ca)\n",
    "database = client.footyamigo\n",
    "fixtures_col = database.fixtures\n",
    "errors_collection = database.errors\n",
    "users_collection = database.users\n"
   ]
  },
  {
   "cell_type": "code",
   "execution_count": 2,
   "metadata": {},
   "outputs": [],
   "source": [
    "# fixtures = fixtures_col.find({\n",
    "#   \"result.goal_timings_all\": {\"$not\": {\"$elemMatch\":{\n",
    "#     \"$gte\": 5,\n",
    "#     \"$lte\": 15\n",
    "#    } }}\n",
    "# }, {\"result.goal_timings_all\": 1, \"result.goals_between_5_15\": 1}).limit(10)"
   ]
  },
  {
   "cell_type": "code",
   "execution_count": 4,
   "metadata": {},
   "outputs": [],
   "source": [
    "# fixtures = fixtures_col.find({\n",
    "# \"stats.home.goals\": {\"$exists\": False}\n",
    "    \n",
    "# }, {\"result.goal_timings_all\": 1, \"result.goals_between_5_15\": 1, \"stats\": 1}).limit(10)\n",
    "\n",
    "# for f in fixtures: \n",
    "#   print(f)"
   ]
  },
  {
   "cell_type": "code",
   "execution_count": 36,
   "metadata": {},
   "outputs": [],
   "source": [
    "# fixture_ids = []\n",
    "# for i in fixtures:\n",
    "#   fixture_ids.append(i['fixture_id'])\n",
    "#   print(i['fixture_id'])"
   ]
  },
  {
   "cell_type": "code",
   "execution_count": 5,
   "metadata": {},
   "outputs": [],
   "source": [
    "# fixtures = fixtures_col.find({\n",
    "#   \"$ne\": {\"result.goal_timings_all\": {\"$elemMatch\": {\n",
    "#         \"$gte\": 5,\n",
    "#         \"$lte\": 15\n",
    "#     }}\n",
    "#     }\n",
    "# }, {\"result.goal_timings_all\": 1, \"result.goals_between_5_15\": 1}).limit(10)\n"
   ]
  },
  {
   "cell_type": "code",
   "execution_count": 6,
   "metadata": {},
   "outputs": [],
   "source": [
    "# fixtures_col.update_many({\n",
    "#   \"result.goal_timings_all\": {\"$elemMatch\":{\n",
    "#     \"$gte\": 5,\n",
    "#     \"$lte\": 15\n",
    "#    } }\n",
    "# }, {\"$set\": {\"result.goals_between_5_15\": True, \"result.goals_between_5_15_no\": False}})"
   ]
  },
  {
   "cell_type": "code",
   "execution_count": null,
   "metadata": {},
   "outputs": [],
   "source": []
  },
  {
   "cell_type": "code",
   "execution_count": 7,
   "metadata": {},
   "outputs": [],
   "source": [
    "# fixtures_col.update_many({\n",
    "#   \"result.goal_timings_all\": {\"$not\": {\"$elemMatch\":{\n",
    "#     \"$gte\": 5,\n",
    "#     \"$lte\": 15\n",
    "#    } }}\n",
    "# }, {\"$set\": {\"result.goals_between_5_15\": False, \"result.goals_between_5_15_no\": True}})"
   ]
  },
  {
   "cell_type": "code",
   "execution_count": 8,
   "metadata": {},
   "outputs": [],
   "source": [
    "# fixtures = fixtures_col.update_many({\n",
    "#   \"result.o95_corners\": True \n",
    "# }, {\"$set\": {\"result.u95_corners\": False }})"
   ]
  },
  {
   "cell_type": "code",
   "execution_count": 9,
   "metadata": {},
   "outputs": [],
   "source": [
    "# fixtures = fixtures_col.update_many({\n",
    "#   \"result.o95_corners\": False \n",
    "# }, {\"$set\": {\"result.u95_corners\": True }})"
   ]
  },
  {
   "cell_type": "code",
   "execution_count": 10,
   "metadata": {},
   "outputs": [],
   "source": [
    "# fixtures = fixtures_col.update_many({\n",
    "# }, [{\"$set\": {\"home.league_position\": \"$home_position\", \"away.league_position\": \"$away_position\" }}])"
   ]
  },
  {
   "cell_type": "code",
   "execution_count": 11,
   "metadata": {},
   "outputs": [],
   "source": [
    "# fixtures = fixtures_col.find({\n",
    "# }, {\"home_position\": 1, \"home.league_position\": 1, \"away.league_position\": 1, \"away_position\":1}).limit(10)\n",
    "# for f in fixtures: \n",
    "#   print(f)"
   ]
  },
  {
   "cell_type": "code",
   "execution_count": null,
   "metadata": {},
   "outputs": [],
   "source": []
  },
  {
   "cell_type": "code",
   "execution_count": 20,
   "metadata": {},
   "outputs": [
    {
     "data": {
      "text/plain": [
       "<pymongo.results.UpdateResult at 0x15e5aad00>"
      ]
     },
     "execution_count": 20,
     "metadata": {},
     "output_type": "execute_result"
    }
   ],
   "source": [
    "\n",
    "u"
   ]
  },
  {
   "cell_type": "code",
   "execution_count": 19,
   "metadata": {},
   "outputs": [
    {
     "data": {
      "text/plain": [
       "<pymongo.results.DeleteResult at 0x12ad1af00>"
      ]
     },
     "execution_count": 19,
     "metadata": {},
     "output_type": "execute_result"
    }
   ],
   "source": [
    "message = \"'str' object has no attribute 'trim'\"\n",
    "message =\"'home_name'\"\n",
    "message = \"'NoneType' object is not subscriptable\"\n",
    "\n",
    "message = \"\"\"error while multiplanner was selecting best plan :: caused by\"\"\"\n",
    "message = \"A request to the Telegram API was unsuccessful. Error code: 400. Description: Bad Request: chat not found\"\n",
    "\n",
    "message = \"(host='api.telegram.org', port=443)\"\n",
    "message = \"Unsupported start tag\"\n",
    "message = \"argument must be a string or a number\"\n",
    "message = \"'timer'\"\n",
    "\n",
    "message = \"Read-only file system\"\n",
    "message = \"bot was blocked\"\n",
    "message = \"first_code\"\n",
    "message = \"duplicate key error collection\"\n",
    "\n",
    "# errors_collection.delete_many({\"message\": {\"$regex\": \".*\"+message+\".*\"}})\n",
    "errors_collection.delete_many({\"message\":{\"$regex\": f\".*{message}.*\"}})"
   ]
  },
  {
   "cell_type": "code",
   "execution_count": 20,
   "metadata": {},
   "outputs": [
    {
     "data": {
      "text/plain": [
       "<pymongo.results.DeleteResult at 0x12ad1e440>"
      ]
     },
     "execution_count": 20,
     "metadata": {},
     "output_type": "execute_result"
    }
   ],
   "source": [
    "errors_collection.delete_many({\"lambda\":\"pre-match-strategy-executer\"})\n"
   ]
  },
  {
   "cell_type": "code",
   "execution_count": null,
   "metadata": {},
   "outputs": [],
   "source": []
  }
 ],
 "metadata": {
  "interpreter": {
   "hash": "90bd059e05f79fb9b7cf5d2b1dae6ea26ca779772e058f49dd8fbe1978749df0"
  },
  "kernelspec": {
   "display_name": "Python 3.8.12 64-bit",
   "language": "python",
   "name": "python3"
  },
  "language_info": {
   "codemirror_mode": {
    "name": "ipython",
    "version": 3
   },
   "file_extension": ".py",
   "mimetype": "text/x-python",
   "name": "python",
   "nbconvert_exporter": "python",
   "pygments_lexer": "ipython3",
   "version": "3.8.12"
  },
  "orig_nbformat": 4
 },
 "nbformat": 4,
 "nbformat_minor": 2
}
