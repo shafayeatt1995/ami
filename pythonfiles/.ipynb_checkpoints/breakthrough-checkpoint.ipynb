{
 "cells": [
  {
   "cell_type": "code",
   "execution_count": 17,
   "metadata": {},
   "outputs": [],
   "source": [
    "stats= \"\"\"goals\n",
    "shots_on_target\n",
    "shots_off_target\n",
    "shots\n",
    "attacks\n",
    "dangerous_attacks\n",
    "corners\n",
    "possession\n",
    "redcards\n",
    "yellowcards\n",
    "penalties\n",
    "substitutions\"\"\""
   ]
  },
  {
   "cell_type": "code",
   "execution_count": 18,
   "metadata": {},
   "outputs": [],
   "source": [
    "stats = stats.splitlines()"
   ]
  },
  {
   "cell_type": "code",
   "execution_count": 55,
   "metadata": {},
   "outputs": [],
   "source": [
    "dont_print = True"
   ]
  },
  {
   "cell_type": "code",
   "execution_count": 87,
   "metadata": {},
   "outputs": [
    {
     "data": {
      "text/plain": [
       "['sum_of_teams',\n",
       " 'home',\n",
       " 'away',\n",
       " 'either_team',\n",
       " 'favorite',\n",
       " 'favorite_playing_home',\n",
       " 'favorite_playing_away',\n",
       " 'underdog',\n",
       " 'underdog_playing_home',\n",
       " 'underdog_playing_away',\n",
       " 'winning_team',\n",
       " 'losing_team']"
      ]
     },
     "execution_count": 87,
     "metadata": {},
     "output_type": "execute_result"
    }
   ],
   "source": [
    "[\n",
    "  \"sum_of_teams\",\n",
    "  \"home\", #STATS\n",
    "  \"away\", #STATS\n",
    "  \"either_team\",\n",
    "  \"favorite\",#STATS\n",
    "  \"favorite_playing_home\",#STATS\n",
    "  \"favorite_playing_away\",#STATS\n",
    "  \"underdog\",#STATS\n",
    "  \"underdog_playing_home\",#STATS\n",
    "  \"underdog_playing_away\",#STATS\n",
    "  \"winning_team\",#STATS\n",
    "  \"losing_team\"#STATS\n",
    "]"
   ]
  },
  {
   "cell_type": "code",
   "execution_count": 58,
   "metadata": {},
   "outputs": [],
   "source": [
    "#FOR HOME AND AWAY STATS\n",
    "for stat in stats:\n",
    "  if dont_print:\n",
    "    continue\n",
    "  print(f\"\"\"\n",
    "  home_stats.{stat} as home_{stat},\n",
    "  away_stats.{stat} as away_{stat},\"\"\")"
   ]
  },
  {
   "cell_type": "code",
   "execution_count": 59,
   "metadata": {},
   "outputs": [],
   "source": [
    "#FOR WINNING TEAM STATS\n",
    "for stat in stats:\n",
    "  if dont_print:\n",
    "    continue\n",
    "  print(f\"\"\"(\n",
    "    CASE\n",
    "      WHEN home_stats.goals > away_stats.goals THEN home_stats.{stat}\n",
    "      WHEN away_stats.goals > home_stats.goals THEN away_stats.{stat}\n",
    "      ELSE NULL\n",
    "    END\n",
    "  ) AS winning_team_{stat},\"\"\")\n",
    " "
   ]
  },
  {
   "cell_type": "code",
   "execution_count": 60,
   "metadata": {},
   "outputs": [],
   "source": [
    "#FOR LOSING TEAM STATS\n",
    "for stat in stats:\n",
    "  if dont_print:\n",
    "    continue\n",
    "  print(f\"\"\"(\n",
    "    CASE\n",
    "      WHEN home_stats.goals < away_stats.goals THEN home_stats.{stat}\n",
    "      WHEN away_stats.goals < home_stats.goals THEN away_stats.{stat}\n",
    "      ELSE NULL\n",
    "    END\n",
    "  ) AS losing_team_{stat},\"\"\")\n",
    " "
   ]
  },
  {
   "cell_type": "code",
   "execution_count": 63,
   "metadata": {},
   "outputs": [],
   "source": [
    "#FAVORITE TEAM STATS\n",
    "for stat in stats:\n",
    "  if dont_print:\n",
    "    continue\n",
    "  print(f\"\"\"(\n",
    "    CASE\n",
    "      WHEN pre_odds.home_win < pre_odds.away_win THEN home_stats.{stat}\n",
    "      WHEN pre_odds.away_win < pre_odds.home_win THEN away_stats.{stat}\n",
    "      ELSE NULL\n",
    "    END\n",
    "  ) AS favorite_{stat},\"\"\")\n",
    " \n"
   ]
  },
  {
   "cell_type": "code",
   "execution_count": 65,
   "metadata": {},
   "outputs": [],
   "source": [
    "#UNDERDOG TEAM STATS\n",
    "for stat in stats:\n",
    "  if dont_print:\n",
    "    continue\n",
    "  print(f\"\"\"(\n",
    "    CASE\n",
    "      WHEN pre_odds.home_win > pre_odds.away_win THEN home_stats.{stat}\n",
    "      WHEN pre_odds.away_win > pre_odds.home_win THEN away_stats.{stat}\n",
    "      ELSE NULL\n",
    "    END\n",
    "  ) AS underdog_{stat},\"\"\")\n",
    " \n"
   ]
  },
  {
   "cell_type": "code",
   "execution_count": 66,
   "metadata": {},
   "outputs": [],
   "source": [
    "#UNDERDOG PLAYING HOME STATS\n",
    "for stat in stats:\n",
    "  if dont_print:\n",
    "    continue\n",
    "  print(f\"\"\"(\n",
    "    CASE\n",
    "      WHEN pre_odds.home_win > pre_odds.away_win THEN home_stats.{stat}\n",
    "      ELSE NULL\n",
    "    END\n",
    "  ) AS underdog_playing_home_{stat},\"\"\")\n",
    " \n"
   ]
  },
  {
   "cell_type": "code",
   "execution_count": 67,
   "metadata": {},
   "outputs": [],
   "source": [
    "#FAVORITE PLAYING HOME STATS\n",
    "for stat in stats:\n",
    "  if dont_print:\n",
    "    continue\n",
    "  print(f\"\"\"(\n",
    "    CASE\n",
    "      WHEN pre_odds.home_win < pre_odds.away_win THEN home_stats.{stat}\n",
    "      ELSE NULL\n",
    "    END\n",
    "  ) AS favorite_playing_home_{stat},\"\"\")\n",
    " \n"
   ]
  },
  {
   "cell_type": "code",
   "execution_count": null,
   "metadata": {},
   "outputs": [],
   "source": []
  },
  {
   "cell_type": "code",
   "execution_count": 85,
   "metadata": {},
   "outputs": [],
   "source": [
    "#UNDERDOG PLAYING AWAY STATS\n",
    "for stat in stats:\n",
    "  if dont_print:\n",
    "    continue\n",
    "  print(f\"\"\"(\n",
    "    CASE\n",
    "      WHEN pre_odds.away_win > pre_odds.home_win THEN away_stats.{stat}\n",
    "      ELSE NULL\n",
    "    END\n",
    "  ) AS underdog_playing_away_{stat},\"\"\")\n",
    " \n"
   ]
  },
  {
   "cell_type": "code",
   "execution_count": 86,
   "metadata": {},
   "outputs": [],
   "source": [
    "#FAVORITE PLAYING AWAY STATS\n",
    "for stat in stats:\n",
    "  if dont_print:\n",
    "    continue\n",
    "  print(f\"\"\"(\n",
    "    CASE\n",
    "      WHEN pre_odds.away_win < pre_odds.home_win THEN away_stats.{stat}\n",
    "      ELSE NULL\n",
    "    END\n",
    "  ) AS favorite_playing_away_{stat},\"\"\")\n",
    " \n"
   ]
  },
  {
   "cell_type": "code",
   "execution_count": null,
   "metadata": {},
   "outputs": [],
   "source": []
  }
 ],
 "metadata": {
  "interpreter": {
   "hash": "31f2aee4e71d21fbe5cf8b01ff0e069b9275f58929596ceb00d14d90e3e16cd6"
  },
  "kernelspec": {
   "display_name": "Python 3 (ipykernel)",
   "language": "python",
   "name": "python3"
  },
  "language_info": {
   "codemirror_mode": {
    "name": "ipython",
    "version": 3
   },
   "file_extension": ".py",
   "mimetype": "text/x-python",
   "name": "python",
   "nbconvert_exporter": "python",
   "pygments_lexer": "ipython3",
   "version": "3.8.2"
  }
 },
 "nbformat": 4,
 "nbformat_minor": 2
}
